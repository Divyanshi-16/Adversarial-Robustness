{
  "nbformat": 4,
  "nbformat_minor": 0,
  "metadata": {
    "colab": {
      "provenance": [],
      "authorship_tag": "ABX9TyMZ4dEK2Pvsn9XiKqvCNLGI",
      "include_colab_link": true
    },
    "kernelspec": {
      "name": "python3",
      "display_name": "Python 3"
    },
    "language_info": {
      "name": "python"
    }
  },
  "cells": [
    {
      "cell_type": "markdown",
      "metadata": {
        "id": "view-in-github",
        "colab_type": "text"
      },
      "source": [
        "<a href=\"https://colab.research.google.com/github/Divyanshi-16/Adversarial-Robustness/blob/main/FeedForward.ipynb\" target=\"_parent\"><img src=\"https://colab.research.google.com/assets/colab-badge.svg\" alt=\"Open In Colab\"/></a>"
      ]
    },
    {
      "cell_type": "markdown",
      "source": [
        "**Model:** Feed-Forward Neural Network"
      ],
      "metadata": {
        "id": "LYAflWpdHGqI"
      }
    },
    {
      "cell_type": "code",
      "execution_count": null,
      "metadata": {
        "id": "gHOemyBHtNOF",
        "colab": {
          "base_uri": "https://localhost:8080/"
        },
        "outputId": "a5cfc743-abe9-4958-aa4e-37d30d94f164"
      },
      "outputs": [
        {
          "output_type": "stream",
          "name": "stderr",
          "text": [
            "WARNING:absl:`lr` is deprecated in Keras optimizer, please use `learning_rate` or use the legacy optimizer, e.g.,tf.keras.optimizers.legacy.Adam.\n"
          ]
        },
        {
          "output_type": "stream",
          "name": "stdout",
          "text": [
            "Epoch 1/20\n",
            "1875/1875 [==============================] - 31s 16ms/step - loss: 0.5453 - accuracy: 0.8402 - val_loss: 0.1924 - val_accuracy: 0.9502 - lr: 0.0010\n",
            "Epoch 2/20\n",
            "1875/1875 [==============================] - 29s 16ms/step - loss: 0.3155 - accuracy: 0.9133 - val_loss: 0.1532 - val_accuracy: 0.9630 - lr: 9.0000e-04\n",
            "Epoch 3/20\n",
            "1875/1875 [==============================] - 31s 16ms/step - loss: 0.2695 - accuracy: 0.9291 - val_loss: 0.1370 - val_accuracy: 0.9718 - lr: 8.1000e-04\n",
            "Epoch 4/20\n",
            "1875/1875 [==============================] - 30s 16ms/step - loss: 0.2448 - accuracy: 0.9369 - val_loss: 0.1249 - val_accuracy: 0.9738 - lr: 7.2900e-04\n",
            "Epoch 5/20\n",
            "1875/1875 [==============================] - 29s 16ms/step - loss: 0.2317 - accuracy: 0.9419 - val_loss: 0.1203 - val_accuracy: 0.9752 - lr: 6.5610e-04\n",
            "Epoch 6/20\n",
            "1875/1875 [==============================] - 30s 16ms/step - loss: 0.2143 - accuracy: 0.9464 - val_loss: 0.1129 - val_accuracy: 0.9788 - lr: 5.9049e-04\n",
            "Epoch 7/20\n",
            "1875/1875 [==============================] - 30s 16ms/step - loss: 0.2083 - accuracy: 0.9493 - val_loss: 0.1104 - val_accuracy: 0.9787 - lr: 5.3144e-04\n",
            "Epoch 8/20\n",
            "1875/1875 [==============================] - 31s 17ms/step - loss: 0.1959 - accuracy: 0.9522 - val_loss: 0.1064 - val_accuracy: 0.9798 - lr: 4.7830e-04\n",
            "Epoch 9/20\n",
            "1875/1875 [==============================] - 30s 16ms/step - loss: 0.1872 - accuracy: 0.9559 - val_loss: 0.0999 - val_accuracy: 0.9808 - lr: 4.3047e-04\n",
            "Epoch 10/20\n",
            "1875/1875 [==============================] - 30s 16ms/step - loss: 0.1843 - accuracy: 0.9561 - val_loss: 0.1016 - val_accuracy: 0.9799 - lr: 3.8742e-04\n",
            "Epoch 11/20\n",
            "1875/1875 [==============================] - 30s 16ms/step - loss: 0.1766 - accuracy: 0.9575 - val_loss: 0.0935 - val_accuracy: 0.9819 - lr: 3.4868e-04\n",
            "Epoch 12/20\n",
            "1875/1875 [==============================] - 29s 16ms/step - loss: 0.1732 - accuracy: 0.9589 - val_loss: 0.0914 - val_accuracy: 0.9826 - lr: 3.1381e-04\n",
            "Epoch 13/20\n",
            "1875/1875 [==============================] - 30s 16ms/step - loss: 0.1625 - accuracy: 0.9611 - val_loss: 0.0880 - val_accuracy: 0.9848 - lr: 2.8243e-04\n",
            "Epoch 14/20\n",
            "1875/1875 [==============================] - 31s 17ms/step - loss: 0.1612 - accuracy: 0.9619 - val_loss: 0.0883 - val_accuracy: 0.9831 - lr: 2.5419e-04\n",
            "Epoch 15/20\n",
            "1875/1875 [==============================] - 31s 16ms/step - loss: 0.1587 - accuracy: 0.9633 - val_loss: 0.0865 - val_accuracy: 0.9842 - lr: 2.2877e-04\n",
            "Epoch 16/20\n",
            "1875/1875 [==============================] - 30s 16ms/step - loss: 0.1525 - accuracy: 0.9641 - val_loss: 0.0849 - val_accuracy: 0.9842 - lr: 2.0589e-04\n",
            "Epoch 17/20\n",
            "1875/1875 [==============================] - 30s 16ms/step - loss: 0.1466 - accuracy: 0.9660 - val_loss: 0.0825 - val_accuracy: 0.9840 - lr: 1.8530e-04\n",
            "Epoch 18/20\n",
            "1875/1875 [==============================] - 30s 16ms/step - loss: 0.1467 - accuracy: 0.9656 - val_loss: 0.0803 - val_accuracy: 0.9849 - lr: 1.6677e-04\n",
            "Epoch 19/20\n",
            "1875/1875 [==============================] - 30s 16ms/step - loss: 0.1453 - accuracy: 0.9654 - val_loss: 0.0785 - val_accuracy: 0.9853 - lr: 1.5009e-04\n",
            "Epoch 20/20\n",
            "1875/1875 [==============================] - 31s 17ms/step - loss: 0.1409 - accuracy: 0.9669 - val_loss: 0.0745 - val_accuracy: 0.9868 - lr: 1.3509e-04\n",
            "313/313 [==============================] - 1s 4ms/step - loss: 0.0745 - accuracy: 0.9868\n",
            "Test accuracy: 0.9868000149726868\n",
            "313/313 [==============================] - 1s 2ms/step\n",
            "Precision: 0.9868081735628398\n",
            "Recall: 0.9867220110735258\n"
          ]
        }
      ],
      "source": [
        "from zipfile import ZipFile\n",
        "import pandas as pd\n",
        "import numpy as np\n",
        "import tensorflow as tf\n",
        "from tensorflow.keras.models import Sequential\n",
        "from tensorflow.keras.layers import Dense, Flatten, BatchNormalization\n",
        "from tensorflow.keras.optimizers import Adam\n",
        "from tensorflow.keras.preprocessing.image import ImageDataGenerator\n",
        "from tensorflow.keras.callbacks import LearningRateScheduler\n",
        "from tensorflow.keras import regularizers\n",
        "from sklearn.metrics import precision_score, recall_score\n",
        "\n",
        "with ZipFile('mnist_train.csv.zip', 'r') as zip_ref:\n",
        "    zip_ref.extractall('mnist_train')\n",
        "\n",
        "with ZipFile('mnist_test.csv.zip', 'r') as zip_ref:\n",
        "    zip_ref.extractall('mnist_test')\n",
        "\n",
        "train_data = pd.read_csv('mnist_train/mnist_train.csv')\n",
        "test_data = pd.read_csv('mnist_test/mnist_test.csv')\n",
        "\n",
        "x_train = train_data.iloc[:, 1:].values\n",
        "y_train = train_data.iloc[:, 0].values\n",
        "x_test = test_data.iloc[:, 1:].values\n",
        "y_test = test_data.iloc[:, 0].values\n",
        "\n",
        "# Normalize pixel values to be between 0 and 1\n",
        "x_train, x_test = x_train / 255.0, x_test / 255.0\n",
        "\n",
        "# Reshape input data\n",
        "x_train = x_train.reshape(-1, 28, 28, 1)\n",
        "x_test = x_test.reshape(-1, 28, 28, 1)\n",
        "\n",
        "# Data augmentation\n",
        "datagen = ImageDataGenerator(\n",
        "    rotation_range=10,\n",
        "    zoom_range=0.1,\n",
        "    width_shift_range=0.1,\n",
        "    height_shift_range=0.1\n",
        ")\n",
        "datagen.fit(x_train)\n",
        "\n",
        "# Define the model\n",
        "model = Sequential([\n",
        "    Flatten(input_shape=(28, 28, 1)),\n",
        "    Dense(128, activation='relu', kernel_regularizer=regularizers.l2(0.0001)),\n",
        "    BatchNormalization(),\n",
        "    Dense(64, activation='relu', kernel_regularizer=regularizers.l2(0.0001)),\n",
        "    BatchNormalization(),\n",
        "    Dense(10, activation='softmax')\n",
        "])\n",
        "\n",
        "# Compile the model\n",
        "initial_learning_rate = 0.001\n",
        "opt = Adam(lr=initial_learning_rate)\n",
        "model.compile(optimizer=opt,\n",
        "              loss='sparse_categorical_crossentropy',\n",
        "              metrics=['accuracy'])\n",
        "\n",
        "# Learning rate scheduling\n",
        "def lr_schedule(epoch):\n",
        "    return initial_learning_rate * 0.9 ** epoch\n",
        "\n",
        "lr_scheduler = LearningRateScheduler(lr_schedule)\n",
        "\n",
        "# Train the model\n",
        "history = model.fit(datagen.flow(x_train, y_train, batch_size=32),\n",
        "                    epochs=20,\n",
        "                    validation_data=(x_test, y_test),\n",
        "                    callbacks=[lr_scheduler])\n",
        "\n",
        "# Evaluate the model\n",
        "test_loss, test_accuracy = model.evaluate(x_test, y_test)\n",
        "print(f'Test accuracy: {test_accuracy}')\n",
        "y_pred = np.argmax(model.predict(x_test), axis=1)\n",
        "precision = precision_score(y_test, y_pred, average='macro')\n",
        "recall = recall_score(y_test, y_pred, average='macro')\n",
        "\n",
        "print(f'Precision: {precision}')\n",
        "print(f'Recall: {recall}')"
      ]
    },
    {
      "cell_type": "code",
      "source": [
        "!pip install torchattacks"
      ],
      "metadata": {
        "id": "S5gs8Y8utWVs",
        "colab": {
          "base_uri": "https://localhost:8080/",
          "height": 1000
        },
        "outputId": "3e3dc4ae-8d83-4c4b-f41f-386ec4d0ff87"
      },
      "execution_count": null,
      "outputs": [
        {
          "output_type": "stream",
          "name": "stdout",
          "text": [
            "Collecting torchattacks\n",
            "  Downloading torchattacks-3.5.1-py3-none-any.whl (142 kB)\n",
            "\u001b[?25l     \u001b[90m━━━━━━━━━━━━━━━━━━━━━━━━━━━━━━━━━━━━━━━━\u001b[0m \u001b[32m0.0/142.0 kB\u001b[0m \u001b[31m?\u001b[0m eta \u001b[36m-:--:--\u001b[0m\r\u001b[2K     \u001b[91m━━━━━━━━━━━━━━━━━━━━━━━━━━━━━━━━━━━━━\u001b[0m\u001b[90m╺\u001b[0m\u001b[90m━━\u001b[0m \u001b[32m133.1/142.0 kB\u001b[0m \u001b[31m4.4 MB/s\u001b[0m eta \u001b[36m0:00:01\u001b[0m\r\u001b[2K     \u001b[90m━━━━━━━━━━━━━━━━━━━━━━━━━━━━━━━━━━━━━━━━\u001b[0m \u001b[32m142.0/142.0 kB\u001b[0m \u001b[31m3.7 MB/s\u001b[0m eta \u001b[36m0:00:00\u001b[0m\n",
            "\u001b[?25hRequirement already satisfied: torch>=1.7.1 in /usr/local/lib/python3.10/dist-packages (from torchattacks) (2.1.0+cu121)\n",
            "Requirement already satisfied: torchvision>=0.8.2 in /usr/local/lib/python3.10/dist-packages (from torchattacks) (0.16.0+cu121)\n",
            "Requirement already satisfied: scipy>=0.14.0 in /usr/local/lib/python3.10/dist-packages (from torchattacks) (1.11.4)\n",
            "Requirement already satisfied: tqdm>=4.56.1 in /usr/local/lib/python3.10/dist-packages (from torchattacks) (4.66.1)\n",
            "Collecting requests~=2.25.1 (from torchattacks)\n",
            "  Downloading requests-2.25.1-py2.py3-none-any.whl (61 kB)\n",
            "\u001b[2K     \u001b[90m━━━━━━━━━━━━━━━━━━━━━━━━━━━━━━━━━━━━━━━━\u001b[0m \u001b[32m61.2/61.2 kB\u001b[0m \u001b[31m8.2 MB/s\u001b[0m eta \u001b[36m0:00:00\u001b[0m\n",
            "\u001b[?25hRequirement already satisfied: numpy>=1.19.4 in /usr/local/lib/python3.10/dist-packages (from torchattacks) (1.25.2)\n",
            "Collecting chardet<5,>=3.0.2 (from requests~=2.25.1->torchattacks)\n",
            "  Downloading chardet-4.0.0-py2.py3-none-any.whl (178 kB)\n",
            "\u001b[2K     \u001b[90m━━━━━━━━━━━━━━━━━━━━━━━━━━━━━━━━━━━━━━━━\u001b[0m \u001b[32m178.7/178.7 kB\u001b[0m \u001b[31m18.1 MB/s\u001b[0m eta \u001b[36m0:00:00\u001b[0m\n",
            "\u001b[?25hCollecting idna<3,>=2.5 (from requests~=2.25.1->torchattacks)\n",
            "  Downloading idna-2.10-py2.py3-none-any.whl (58 kB)\n",
            "\u001b[2K     \u001b[90m━━━━━━━━━━━━━━━━━━━━━━━━━━━━━━━━━━━━━━━━\u001b[0m \u001b[32m58.8/58.8 kB\u001b[0m \u001b[31m7.5 MB/s\u001b[0m eta \u001b[36m0:00:00\u001b[0m\n",
            "\u001b[?25hCollecting urllib3<1.27,>=1.21.1 (from requests~=2.25.1->torchattacks)\n",
            "  Downloading urllib3-1.26.18-py2.py3-none-any.whl (143 kB)\n",
            "\u001b[2K     \u001b[90m━━━━━━━━━━━━━━━━━━━━━━━━━━━━━━━━━━━━━━━━\u001b[0m \u001b[32m143.8/143.8 kB\u001b[0m \u001b[31m18.5 MB/s\u001b[0m eta \u001b[36m0:00:00\u001b[0m\n",
            "\u001b[?25hRequirement already satisfied: certifi>=2017.4.17 in /usr/local/lib/python3.10/dist-packages (from requests~=2.25.1->torchattacks) (2024.2.2)\n",
            "Requirement already satisfied: filelock in /usr/local/lib/python3.10/dist-packages (from torch>=1.7.1->torchattacks) (3.13.1)\n",
            "Requirement already satisfied: typing-extensions in /usr/local/lib/python3.10/dist-packages (from torch>=1.7.1->torchattacks) (4.9.0)\n",
            "Requirement already satisfied: sympy in /usr/local/lib/python3.10/dist-packages (from torch>=1.7.1->torchattacks) (1.12)\n",
            "Requirement already satisfied: networkx in /usr/local/lib/python3.10/dist-packages (from torch>=1.7.1->torchattacks) (3.2.1)\n",
            "Requirement already satisfied: jinja2 in /usr/local/lib/python3.10/dist-packages (from torch>=1.7.1->torchattacks) (3.1.3)\n",
            "Requirement already satisfied: fsspec in /usr/local/lib/python3.10/dist-packages (from torch>=1.7.1->torchattacks) (2023.6.0)\n",
            "Requirement already satisfied: triton==2.1.0 in /usr/local/lib/python3.10/dist-packages (from torch>=1.7.1->torchattacks) (2.1.0)\n",
            "Requirement already satisfied: pillow!=8.3.*,>=5.3.0 in /usr/local/lib/python3.10/dist-packages (from torchvision>=0.8.2->torchattacks) (9.4.0)\n",
            "Requirement already satisfied: MarkupSafe>=2.0 in /usr/local/lib/python3.10/dist-packages (from jinja2->torch>=1.7.1->torchattacks) (2.1.5)\n",
            "Requirement already satisfied: mpmath>=0.19 in /usr/local/lib/python3.10/dist-packages (from sympy->torch>=1.7.1->torchattacks) (1.3.0)\n",
            "Installing collected packages: urllib3, idna, chardet, requests, torchattacks\n",
            "  Attempting uninstall: urllib3\n",
            "    Found existing installation: urllib3 2.0.7\n",
            "    Uninstalling urllib3-2.0.7:\n",
            "      Successfully uninstalled urllib3-2.0.7\n",
            "  Attempting uninstall: idna\n",
            "    Found existing installation: idna 3.6\n",
            "    Uninstalling idna-3.6:\n",
            "      Successfully uninstalled idna-3.6\n",
            "  Attempting uninstall: chardet\n",
            "    Found existing installation: chardet 5.2.0\n",
            "    Uninstalling chardet-5.2.0:\n",
            "      Successfully uninstalled chardet-5.2.0\n",
            "  Attempting uninstall: requests\n",
            "    Found existing installation: requests 2.31.0\n",
            "    Uninstalling requests-2.31.0:\n",
            "      Successfully uninstalled requests-2.31.0\n",
            "\u001b[31mERROR: pip's dependency resolver does not currently take into account all the packages that are installed. This behaviour is the source of the following dependency conflicts.\n",
            "bigframes 0.20.1 requires requests>=2.27.1, but you have requests 2.25.1 which is incompatible.\n",
            "google-colab 1.0.0 requires requests==2.31.0, but you have requests 2.25.1 which is incompatible.\n",
            "tweepy 4.14.0 requires requests<3,>=2.27.0, but you have requests 2.25.1 which is incompatible.\n",
            "yfinance 0.2.36 requires requests>=2.31, but you have requests 2.25.1 which is incompatible.\u001b[0m\u001b[31m\n",
            "\u001b[0mSuccessfully installed chardet-4.0.0 idna-2.10 requests-2.25.1 torchattacks-3.5.1 urllib3-1.26.18\n"
          ]
        },
        {
          "output_type": "display_data",
          "data": {
            "application/vnd.colab-display-data+json": {
              "pip_warning": {
                "packages": [
                  "chardet",
                  "idna",
                  "requests",
                  "urllib3"
                ]
              }
            }
          },
          "metadata": {}
        }
      ]
    },
    {
      "cell_type": "code",
      "source": [
        "from zipfile import ZipFile\n",
        "import pandas as pd\n",
        "import numpy as np\n",
        "import tensorflow as tf\n",
        "from tensorflow.keras.models import Sequential\n",
        "from tensorflow.keras.layers import Dense, Flatten, BatchNormalization\n",
        "from tensorflow.keras.optimizers import Adam\n",
        "from tensorflow.keras.preprocessing.image import ImageDataGenerator\n",
        "from tensorflow.keras.callbacks import LearningRateScheduler\n",
        "from tensorflow.keras import regularizers\n",
        "import torchattacks\n",
        "import torch\n",
        "import torch.nn as nn\n",
        "import torch.nn.functional as F\n",
        "from sklearn.metrics import precision_score, recall_score\n",
        "\n",
        "with ZipFile('mnist_train.csv.zip', 'r') as zip_ref:\n",
        "    zip_ref.extractall('mnist_train')\n",
        "\n",
        "with ZipFile('mnist_test.csv.zip', 'r') as zip_ref:\n",
        "    zip_ref.extractall('mnist_test')\n",
        "\n",
        "train_data = pd.read_csv('mnist_train/mnist_train.csv')\n",
        "test_data = pd.read_csv('mnist_test/mnist_test.csv')\n",
        "\n",
        "x_train = train_data.iloc[:, 1:].values\n",
        "y_train = train_data.iloc[:, 0].values\n",
        "x_test = test_data.iloc[:, 1:].values\n",
        "y_test = test_data.iloc[:, 0].values\n",
        "\n",
        "# Normalize pixel values to be between 0 and 1\n",
        "x_train, x_test = x_train / 255.0, x_test / 255.0\n",
        "\n",
        "# Reshape input data\n",
        "x_train = x_train.reshape(-1, 28, 28, 1)\n",
        "x_test = x_test.reshape(-1, 28, 28, 1)\n",
        "\n",
        "# Define the TensorFlow Keras model\n",
        "model = Sequential([\n",
        "    Flatten(input_shape=(28, 28, 1)),\n",
        "    Dense(128, activation='relu', kernel_regularizer=regularizers.l2(0.0001)),\n",
        "    BatchNormalization(),\n",
        "    Dense(64, activation='relu', kernel_regularizer=regularizers.l2(0.0001)),\n",
        "    BatchNormalization(),\n",
        "    Dense(10, activation='softmax')\n",
        "])\n",
        "\n",
        "# Compile the TensorFlow Keras model\n",
        "initial_learning_rate = 0.001\n",
        "opt = Adam(learning_rate=initial_learning_rate)\n",
        "model.compile(optimizer=opt,\n",
        "              loss='sparse_categorical_crossentropy',\n",
        "              metrics=['accuracy'])\n",
        "\n",
        "# Train the TensorFlow Keras model\n",
        "history = model.fit(x_train, y_train, epochs=20, validation_data=(x_test, y_test))\n",
        "\n",
        "# Define the PyTorch model\n",
        "class PyTorchModel(nn.Module):\n",
        "    def __init__(self):\n",
        "        super(PyTorchModel, self).__init__()\n",
        "        self.flatten = nn.Flatten()\n",
        "        self.fc1 = nn.Linear(28*28, 128)\n",
        "        self.bn1 = nn.BatchNorm1d(128)\n",
        "        self.fc2 = nn.Linear(128, 64)\n",
        "        self.bn2 = nn.BatchNorm1d(64)\n",
        "        self.fc3 = nn.Linear(64, 10)\n",
        "\n",
        "    def forward(self, x):\n",
        "        x = self.flatten(x)\n",
        "        x = F.relu(self.bn1(self.fc1(x)))\n",
        "        x = F.relu(self.bn2(self.fc2(x)))\n",
        "        x = self.fc3(x)\n",
        "        return F.softmax(x, dim=1)\n",
        "\n",
        "# Instantiate the PyTorch model\n",
        "pytorch_model = PyTorchModel()\n",
        "\n",
        "device = torch.device(\"cuda\" if torch.cuda.is_available() else \"cpu\")\n",
        "pytorch_model.to(device)\n",
        "\n",
        "# Generate adversarial examples using FGSM attack\n",
        "fgsm_attack = torchattacks.FGSM(pytorch_model, eps=0.3)\n",
        "x_test_adv = fgsm_attack(torch.tensor(x_test, dtype=torch.float32).to(device),\n",
        "                         torch.tensor(y_test, dtype=torch.long).to(device))\n",
        "\n",
        "# Convert adversarial examples to numpy array\n",
        "x_test_adv_numpy = x_test_adv.cpu().numpy()\n",
        "\n",
        "# Evaluate TensorFlow Keras model on adversarial test data\n",
        "adv_test_loss, adv_test_accuracy = model.evaluate(x_test_adv_numpy, y_test)\n",
        "print(f'Test accuracy on adversarial examples: {adv_test_accuracy}')\n",
        "\n",
        "y_pred_keras = np.argmax(model.predict(x_test_adv_numpy), axis=1)\n",
        "precision_keras = precision_score(y_test, y_pred_keras, average='macro')\n",
        "recall_keras = recall_score(y_test, y_pred_keras, average='macro')\n",
        "\n",
        "print(f'Precision for TensorFlow Keras model: {precision_keras}')\n",
        "print(f'Recall for TensorFlow Keras model: {recall_keras}')"
      ],
      "metadata": {
        "id": "oJZ6v8qZtf1b",
        "colab": {
          "base_uri": "https://localhost:8080/"
        },
        "outputId": "3d91b580-38c5-4be8-a32c-68ead5aee4c1"
      },
      "execution_count": null,
      "outputs": [
        {
          "output_type": "stream",
          "name": "stdout",
          "text": [
            "Epoch 1/20\n",
            "1875/1875 [==============================] - 27s 12ms/step - loss: 0.2736 - accuracy: 0.9262 - val_loss: 0.1547 - val_accuracy: 0.9614\n",
            "Epoch 2/20\n",
            "1875/1875 [==============================] - 14s 7ms/step - loss: 0.1562 - accuracy: 0.9607 - val_loss: 0.1296 - val_accuracy: 0.9697\n",
            "Epoch 3/20\n",
            "1875/1875 [==============================] - 10s 5ms/step - loss: 0.1300 - accuracy: 0.9697 - val_loss: 0.1290 - val_accuracy: 0.9698\n",
            "Epoch 4/20\n",
            "1875/1875 [==============================] - 8s 4ms/step - loss: 0.1227 - accuracy: 0.9725 - val_loss: 0.1318 - val_accuracy: 0.9720\n",
            "Epoch 5/20\n",
            "1875/1875 [==============================] - 9s 5ms/step - loss: 0.1155 - accuracy: 0.9762 - val_loss: 0.1262 - val_accuracy: 0.9728\n",
            "Epoch 6/20\n",
            "1875/1875 [==============================] - 10s 5ms/step - loss: 0.1119 - accuracy: 0.9770 - val_loss: 0.1218 - val_accuracy: 0.9744\n",
            "Epoch 7/20\n",
            "1875/1875 [==============================] - 9s 5ms/step - loss: 0.1079 - accuracy: 0.9789 - val_loss: 0.1362 - val_accuracy: 0.9712\n",
            "Epoch 8/20\n",
            "1875/1875 [==============================] - 9s 5ms/step - loss: 0.1050 - accuracy: 0.9802 - val_loss: 0.1218 - val_accuracy: 0.9764\n",
            "Epoch 9/20\n",
            "1875/1875 [==============================] - 9s 5ms/step - loss: 0.1003 - accuracy: 0.9822 - val_loss: 0.1156 - val_accuracy: 0.9781\n",
            "Epoch 10/20\n",
            "1875/1875 [==============================] - 10s 5ms/step - loss: 0.0984 - accuracy: 0.9827 - val_loss: 0.1173 - val_accuracy: 0.9781\n",
            "Epoch 11/20\n",
            "1875/1875 [==============================] - 8s 4ms/step - loss: 0.1003 - accuracy: 0.9821 - val_loss: 0.1237 - val_accuracy: 0.9758\n",
            "Epoch 12/20\n",
            "1875/1875 [==============================] - 10s 5ms/step - loss: 0.0973 - accuracy: 0.9829 - val_loss: 0.1230 - val_accuracy: 0.9768\n",
            "Epoch 13/20\n",
            "1875/1875 [==============================] - 10s 5ms/step - loss: 0.0944 - accuracy: 0.9839 - val_loss: 0.1286 - val_accuracy: 0.9767\n",
            "Epoch 14/20\n",
            "1875/1875 [==============================] - 9s 5ms/step - loss: 0.0972 - accuracy: 0.9831 - val_loss: 0.1229 - val_accuracy: 0.9773\n",
            "Epoch 15/20\n",
            "1875/1875 [==============================] - 9s 5ms/step - loss: 0.0961 - accuracy: 0.9832 - val_loss: 0.1223 - val_accuracy: 0.9770\n",
            "Epoch 16/20\n",
            "1875/1875 [==============================] - 10s 5ms/step - loss: 0.0951 - accuracy: 0.9841 - val_loss: 0.1237 - val_accuracy: 0.9766\n",
            "Epoch 17/20\n",
            "1875/1875 [==============================] - 10s 5ms/step - loss: 0.0917 - accuracy: 0.9855 - val_loss: 0.1205 - val_accuracy: 0.9784\n",
            "Epoch 18/20\n",
            "1875/1875 [==============================] - 8s 4ms/step - loss: 0.0925 - accuracy: 0.9851 - val_loss: 0.1360 - val_accuracy: 0.9751\n",
            "Epoch 19/20\n",
            "1875/1875 [==============================] - 9s 5ms/step - loss: 0.0906 - accuracy: 0.9854 - val_loss: 0.1226 - val_accuracy: 0.9782\n",
            "Epoch 20/20\n",
            "1875/1875 [==============================] - 10s 5ms/step - loss: 0.0930 - accuracy: 0.9848 - val_loss: 0.1212 - val_accuracy: 0.9773\n",
            "313/313 [==============================] - 1s 2ms/step - loss: 1.1198 - accuracy: 0.6919\n",
            "Test accuracy on adversarial examples: 0.6919000148773193\n",
            "313/313 [==============================] - 1s 2ms/step\n",
            "Precision for TensorFlow Keras model: 0.8650983923668211\n",
            "Recall for TensorFlow Keras model: 0.7022862279460705\n"
          ]
        }
      ]
    },
    {
      "cell_type": "code",
      "source": [
        "import matplotlib.pyplot as plt\n",
        "\n",
        "# Function to display images along with their labels\n",
        "def display_images(images, labels, title):\n",
        "    plt.figure(figsize=(10, 5))\n",
        "    for i in range(len(images)):\n",
        "        plt.subplot(1, len(images), i + 1)\n",
        "        plt.imshow(images[i].reshape(28, 28), cmap='gray')\n",
        "        plt.title(f\"Label: {labels[i]}\")\n",
        "        plt.axis('off')\n",
        "    plt.suptitle(title)\n",
        "    plt.show()\n",
        "\n",
        "# Choose a few random indices to display examples\n",
        "num_examples = 5\n",
        "random_indices = np.random.choice(len(x_test), num_examples)\n",
        "\n",
        "# Display clean images\n",
        "display_images(x_test[random_indices], y_test[random_indices], \"Clean Images\")\n",
        "\n",
        "# Display FGSM attacked images\n",
        "display_images(x_test_adv_numpy[random_indices], y_test[random_indices], \"FGSM Attacked Images\")"
      ],
      "metadata": {
        "colab": {
          "base_uri": "https://localhost:8080/",
          "height": 675
        },
        "id": "ft0w4dxOj00q",
        "outputId": "6bf554da-add9-49f9-dba8-dbf61cecd002"
      },
      "execution_count": null,
      "outputs": [
        {
          "output_type": "display_data",
          "data": {
            "text/plain": [
              "<Figure size 1000x500 with 5 Axes>"
            ],
            "image/png": "[encoded data removed]"
          },
          "metadata": {}
        },
        {
          "output_type": "display_data",
          "data": {
            "text/plain": [
              "<Figure size 1000x500 with 5 Axes>"
            ],
            "image/png": "[encoded data removed]"
          },
          "metadata": {}
        }
      ]
    },
    {
      "cell_type": "code",
      "source": [
        "from zipfile import ZipFile\n",
        "import pandas as pd\n",
        "import numpy as np\n",
        "import tensorflow as tf\n",
        "from tensorflow.keras.models import Sequential\n",
        "from tensorflow.keras.layers import Dense, Flatten, BatchNormalization\n",
        "from tensorflow.keras.optimizers import Adam\n",
        "from tensorflow.keras.preprocessing.image import ImageDataGenerator\n",
        "from tensorflow.keras.callbacks import LearningRateScheduler\n",
        "from tensorflow.keras import regularizers\n",
        "import torchattacks\n",
        "import torch\n",
        "import torch.nn as nn\n",
        "import torch.nn.functional as F\n",
        "from sklearn.metrics import precision_score, recall_score\n",
        "\n",
        "with ZipFile('mnist_train.csv.zip', 'r') as zip_ref:\n",
        "    zip_ref.extractall('mnist_train')\n",
        "\n",
        "with ZipFile('mnist_test.csv.zip', 'r') as zip_ref:\n",
        "    zip_ref.extractall('mnist_test')\n",
        "\n",
        "train_data = pd.read_csv('mnist_train/mnist_train.csv')\n",
        "test_data = pd.read_csv('mnist_test/mnist_test.csv')\n",
        "\n",
        "x_train = train_data.iloc[:, 1:].values\n",
        "y_train = train_data.iloc[:, 0].values\n",
        "x_test = test_data.iloc[:, 1:].values\n",
        "y_test = test_data.iloc[:, 0].values\n",
        "\n",
        "# Normalize pixel values to be between 0 and 1\n",
        "x_train, x_test = x_train / 255.0, x_test / 255.0\n",
        "\n",
        "# Reshape input data\n",
        "x_train = x_train.reshape(-1, 28, 28, 1)\n",
        "x_test = x_test.reshape(-1, 28, 28, 1)\n",
        "\n",
        "# Define the TensorFlow Keras model\n",
        "model = Sequential([\n",
        "    Flatten(input_shape=(28, 28, 1)),\n",
        "    Dense(128, activation='relu', kernel_regularizer=regularizers.l2(0.0001)),\n",
        "    BatchNormalization(),\n",
        "    Dense(64, activation='relu', kernel_regularizer=regularizers.l2(0.0001)),\n",
        "    BatchNormalization(),\n",
        "    Dense(10, activation='softmax')\n",
        "])\n",
        "\n",
        "# Compile the TensorFlow Keras model\n",
        "initial_learning_rate = 0.001\n",
        "opt = Adam(learning_rate=initial_learning_rate)\n",
        "model.compile(optimizer=opt,\n",
        "              loss='sparse_categorical_crossentropy',\n",
        "              metrics=['accuracy'])\n",
        "\n",
        "# Train the TensorFlow Keras model\n",
        "history = model.fit(x_train, y_train, epochs=20, validation_data=(x_test, y_test))\n",
        "\n",
        "# Define the PyTorch model\n",
        "class PyTorchModel(nn.Module):\n",
        "    def __init__(self):\n",
        "        super(PyTorchModel, self).__init__()\n",
        "        self.flatten = nn.Flatten()\n",
        "        self.fc1 = nn.Linear(28*28, 128)\n",
        "        self.bn1 = nn.BatchNorm1d(128)\n",
        "        self.fc2 = nn.Linear(128, 64)\n",
        "        self.bn2 = nn.BatchNorm1d(64)\n",
        "        self.fc3 = nn.Linear(64, 10)\n",
        "\n",
        "    def forward(self, x):\n",
        "        x = self.flatten(x)\n",
        "        x = F.relu(self.bn1(self.fc1(x)))\n",
        "        x = F.relu(self.bn2(self.fc2(x)))\n",
        "        x = self.fc3(x)\n",
        "        return F.softmax(x, dim=1)\n",
        "\n",
        "# Instantiate the PyTorch model\n",
        "pytorch_model = PyTorchModel()\n",
        "\n",
        "# Load PyTorch model to CUDA if available\n",
        "device = torch.device(\"cuda\" if torch.cuda.is_available() else \"cpu\")\n",
        "pytorch_model.to(device)\n",
        "\n",
        "# Generate adversarial examples using PGD attack\n",
        "pgd_attack = torchattacks.PGD(pytorch_model, eps=0.3, alpha=0.01, steps=40)\n",
        "x_test_adv = pgd_attack(torch.tensor(x_test, dtype=torch.float32).to(device),\n",
        "                        torch.tensor(y_test, dtype=torch.long).to(device))\n",
        "\n",
        "# Convert adversarial examples to numpy array\n",
        "x_test_adv_numpy = x_test_adv.cpu().numpy()\n",
        "\n",
        "# Evaluate TensorFlow Keras model on adversarial test data\n",
        "adv_test_loss, adv_test_accuracy = model.evaluate(x_test_adv_numpy, y_test)\n",
        "print(f'Adversarial test accuracy: {adv_test_accuracy}')\n",
        "\n",
        "# Calculate precision and recall for TensorFlow Keras model\n",
        "y_pred_keras = np.argmax(model.predict(x_test_adv_numpy), axis=1)\n",
        "precision_keras = precision_score(y_test, y_pred_keras, average='macro')\n",
        "recall_keras = recall_score(y_test, y_pred_keras, average='macro')\n",
        "\n",
        "print(f'Precision for TensorFlow Keras model: {precision_keras}')\n",
        "print(f'Recall for TensorFlow Keras model: {recall_keras}')"
      ],
      "metadata": {
        "id": "NB1SJFDQuXZO",
        "colab": {
          "base_uri": "https://localhost:8080/"
        },
        "outputId": "1c1671d5-6c19-48ad-d6f3-45df1a18c708"
      },
      "execution_count": null,
      "outputs": [
        {
          "output_type": "stream",
          "name": "stdout",
          "text": [
            "Epoch 1/20\n",
            "1875/1875 [==============================] - 22s 11ms/step - loss: 0.2742 - accuracy: 0.9261 - val_loss: 0.1548 - val_accuracy: 0.9612\n",
            "Epoch 2/20\n",
            "1875/1875 [==============================] - 16s 9ms/step - loss: 0.1616 - accuracy: 0.9603 - val_loss: 0.1325 - val_accuracy: 0.9695\n",
            "Epoch 3/20\n",
            "1875/1875 [==============================] - 10s 5ms/step - loss: 0.1364 - accuracy: 0.9687 - val_loss: 0.1273 - val_accuracy: 0.9728\n",
            "Epoch 4/20\n",
            "1875/1875 [==============================] - 10s 5ms/step - loss: 0.1273 - accuracy: 0.9727 - val_loss: 0.1199 - val_accuracy: 0.9735\n",
            "Epoch 5/20\n",
            "1875/1875 [==============================] - 8s 4ms/step - loss: 0.1173 - accuracy: 0.9751 - val_loss: 0.1214 - val_accuracy: 0.9746\n",
            "Epoch 6/20\n",
            "1875/1875 [==============================] - 10s 5ms/step - loss: 0.1102 - accuracy: 0.9778 - val_loss: 0.1198 - val_accuracy: 0.9761\n",
            "Epoch 7/20\n",
            "1875/1875 [==============================] - 10s 5ms/step - loss: 0.1080 - accuracy: 0.9796 - val_loss: 0.1187 - val_accuracy: 0.9760\n",
            "Epoch 8/20\n",
            "1875/1875 [==============================] - 9s 5ms/step - loss: 0.1084 - accuracy: 0.9789 - val_loss: 0.1300 - val_accuracy: 0.9738\n",
            "Epoch 9/20\n",
            "1875/1875 [==============================] - 9s 5ms/step - loss: 0.1050 - accuracy: 0.9804 - val_loss: 0.1273 - val_accuracy: 0.9735\n",
            "Epoch 10/20\n",
            "1875/1875 [==============================] - 10s 5ms/step - loss: 0.1035 - accuracy: 0.9810 - val_loss: 0.1258 - val_accuracy: 0.9755\n",
            "Epoch 11/20\n",
            "1875/1875 [==============================] - 10s 5ms/step - loss: 0.0995 - accuracy: 0.9819 - val_loss: 0.1186 - val_accuracy: 0.9791\n",
            "Epoch 12/20\n",
            "1875/1875 [==============================] - 8s 4ms/step - loss: 0.0989 - accuracy: 0.9822 - val_loss: 0.1188 - val_accuracy: 0.9790\n",
            "Epoch 13/20\n",
            "1875/1875 [==============================] - 9s 5ms/step - loss: 0.0975 - accuracy: 0.9825 - val_loss: 0.1323 - val_accuracy: 0.9753\n",
            "Epoch 14/20\n",
            "1875/1875 [==============================] - 10s 6ms/step - loss: 0.0944 - accuracy: 0.9836 - val_loss: 0.1203 - val_accuracy: 0.9780\n",
            "Epoch 15/20\n",
            "1875/1875 [==============================] - 8s 4ms/step - loss: 0.0956 - accuracy: 0.9833 - val_loss: 0.1220 - val_accuracy: 0.9772\n",
            "Epoch 16/20\n",
            "1875/1875 [==============================] - 9s 5ms/step - loss: 0.0954 - accuracy: 0.9831 - val_loss: 0.1217 - val_accuracy: 0.9777\n",
            "Epoch 17/20\n",
            "1875/1875 [==============================] - 10s 5ms/step - loss: 0.0936 - accuracy: 0.9843 - val_loss: 0.1153 - val_accuracy: 0.9811\n",
            "Epoch 18/20\n",
            "1875/1875 [==============================] - 9s 5ms/step - loss: 0.0918 - accuracy: 0.9847 - val_loss: 0.1156 - val_accuracy: 0.9792\n",
            "Epoch 19/20\n",
            "1875/1875 [==============================] - 9s 5ms/step - loss: 0.0928 - accuracy: 0.9841 - val_loss: 0.1247 - val_accuracy: 0.9772\n",
            "Epoch 20/20\n",
            "1875/1875 [==============================] - 10s 5ms/step - loss: 0.0912 - accuracy: 0.9852 - val_loss: 0.1183 - val_accuracy: 0.9773\n",
            "313/313 [==============================] - 1s 3ms/step - loss: 1.1275 - accuracy: 0.7688\n",
            "Adversarial test accuracy: 0.7688000202178955\n",
            "313/313 [==============================] - 1s 3ms/step\n",
            "Precision for TensorFlow Keras model: 0.8817732189799242\n",
            "Recall for TensorFlow Keras model: 0.7814642151324634\n"
          ]
        }
      ]
    },
    {
      "cell_type": "code",
      "source": [
        "import matplotlib.pyplot as plt\n",
        "\n",
        "# Function to display images along with their labels\n",
        "def display_images(images, labels, title):\n",
        "    plt.figure(figsize=(10, 5))\n",
        "    for i in range(len(images)):\n",
        "        plt.subplot(1, len(images), i + 1)\n",
        "        plt.imshow(images[i].reshape(28, 28), cmap='gray')\n",
        "        plt.title(f\"Label: {labels[i]}\")\n",
        "        plt.axis('off')\n",
        "    plt.suptitle(title)\n",
        "    plt.show()\n",
        "\n",
        "# Choose a few random indices to display examples\n",
        "num_examples = 5\n",
        "random_indices = np.random.choice(len(x_test), num_examples)\n",
        "\n",
        "# Display clean images\n",
        "display_images(x_test[random_indices], y_test[random_indices], \"Clean Images\")\n",
        "\n",
        "# Display PGD attacked images\n",
        "display_images(x_test_adv_numpy[random_indices], y_test[random_indices], \"PGD Attacked Images\")"
      ],
      "metadata": {
        "colab": {
          "base_uri": "https://localhost:8080/",
          "height": 675
        },
        "id": "7LWiHwHbkH2n",
        "outputId": "6db948c7-4344-4518-a926-0d57e62ee7a7"
      },
      "execution_count": null,
      "outputs": [
        {
          "output_type": "display_data",
          "data": {
            "text/plain": [
              "<Figure size 1000x500 with 5 Axes>"
            ],
            "image/png": "[encoded data removed]"
          },
          "metadata": {}
        },
        {
          "output_type": "display_data",
          "data": {
            "text/plain": [
              "<Figure size 1000x500 with 5 Axes>"
            ],
            "image/png": "[encoded data removed]"
          },
          "metadata": {}
        }
      ]
    },
    {
      "cell_type": "code",
      "source": [
        "# Generate adversarial examples using DeepFool attack\n",
        "deepfool_attack = torchattacks.DeepFool(pytorch_model)\n",
        "x_test_adv_deepfool = deepfool_attack(torch.tensor(x_test, dtype=torch.float32).to(device),\n",
        "                                       torch.tensor(y_test, dtype=torch.long).to(device))\n",
        "\n",
        "# Convert adversarial examples to numpy array\n",
        "x_test_adv_deepfool_numpy = x_test_adv_deepfool.cpu().numpy()\n"
      ],
      "metadata": {
        "id": "N7NtvtIIuSqo"
      },
      "execution_count": null,
      "outputs": []
    },
    {
      "cell_type": "code",
      "source": [
        "import matplotlib.pyplot as plt\n",
        "\n",
        "# Function to display images along with their labels\n",
        "def display_images(images, labels, title):\n",
        "    plt.figure(figsize=(10, 5))\n",
        "    for i in range(len(images)):\n",
        "        plt.subplot(1, len(images), i + 1)\n",
        "        plt.imshow(images[i].reshape(28, 28), cmap='gray')\n",
        "        plt.title(f\"Label: {labels[i]}\")\n",
        "        plt.axis('off')\n",
        "    plt.suptitle(title)\n",
        "    plt.show()\n",
        "\n",
        "# Choose a few random indices to display examples\n",
        "num_examples = 5\n",
        "random_indices = np.random.choice(len(x_test), num_examples)\n",
        "\n",
        "# Display clean images\n",
        "display_images(x_test[random_indices], y_test[random_indices], \"Clean Images\")\n",
        "\n",
        "\n",
        "\n",
        "# Display DeepFool attacked images\n",
        "display_images(x_test_adv_deepfool_numpy[random_indices], y_test[random_indices], \"DeepFool Attacked Images\")\n"
      ],
      "metadata": {
        "colab": {
          "base_uri": "https://localhost:8080/",
          "height": 675
        },
        "id": "mLjKcX-atPgF",
        "outputId": "b56d06e2-382f-4bf5-c662-c5b908f435a4"
      },
      "execution_count": null,
      "outputs": [
        {
          "output_type": "display_data",
          "data": {
            "text/plain": [
              "<Figure size 1000x500 with 5 Axes>"
            ],
            "image/png": "[encoded data removed]"
          },
          "metadata": {}
        },
        {
          "output_type": "display_data",
          "data": {
            "text/plain": [
              "<Figure size 1000x500 with 5 Axes>"
            ],
            "image/png": "[encoded data removed]"
          },
          "metadata": {}
        }
      ]
    }
  ]
}